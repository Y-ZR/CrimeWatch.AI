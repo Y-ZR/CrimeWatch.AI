{
  "cells": [
    {
      "cell_type": "markdown",
      "metadata": {
        "id": "084u8u0DpBlo"
      },
      "source": [
        "# Gemini API: Prompting with Video"
      ]
    },
    {
      "cell_type": "markdown",
      "metadata": {
        "id": "wnQ_LVlzIeXo"
      },
      "source": [
        "<table align=\"left\">\n",
        "  <td>\n",
        "    <a target=\"_blank\" href=\"https://colab.research.google.com/github/google-gemini/cookbook/blob/main/quickstarts/Video.ipynb\"><img src=\"https://www.tensorflow.org/images/colab_logo_32px.png\" />Run in Google Colab</a>\n",
        "  </td>\n",
        "</table>"
      ]
    },
    {
      "cell_type": "markdown",
      "metadata": {
        "id": "q7QvXQMrIhuZ"
      },
      "source": [
        "This notebook provides a quick example of how to prompt Gemini 1.5 Pro using a video file. In this case, you'll use a short clip of [Big Buck Bunny](https://peach.blender.org/about/)."
      ]
    },
    {
      "cell_type": "code",
      "execution_count": 2,
      "metadata": {
        "colab": {
          "base_uri": "https://localhost:8080/"
        },
        "id": "qLuL9m7KhvxR",
        "outputId": "50052ade-759a-437e-8476-4b8a1344c4c8"
      },
      "outputs": [],
      "source": [
        "# !pip install -U -q google-generativeai"
      ]
    },
    {
      "cell_type": "code",
      "execution_count": 3,
      "metadata": {
        "id": "ATIbQM0NHhkj"
      },
      "outputs": [],
      "source": [
        "import google.generativeai as genai"
      ]
    },
    {
      "cell_type": "markdown",
      "metadata": {
        "id": "ngyzKAu3Nw5k"
      },
      "source": [
        "### Authentication Overview\n",
        "\n",
        "**Important:** The File API uses API keys for authentication and access. Uploaded files are associated with the API key's cloud project. Unlike other Gemini APIs that use API keys, your API key also grants access data you've uploaded to the File API, so take extra care in keeping your API key secure. For best practices on securing API keys, refer to Google's [documentation](https://support.google.com/googleapi/answer/6310037)."
      ]
    },
    {
      "cell_type": "markdown",
      "metadata": {
        "id": "l8g4hTRotheH"
      },
      "source": [
        "### Setup your API key\n",
        "\n",
        "To run the following cell, your API key must be stored it in a Colab Secret named `GOOGLE_API_KEY`. If you don't already have an API key, or you're not sure how to create a Colab Secret, see [Authentication](https://github.com/google-gemini/cookbook/blob/main/quickstarts/Authentication.ipynb) for an example."
      ]
    },
    {
      "cell_type": "code",
      "execution_count": 4,
      "metadata": {
        "id": "d6lYXRcjthKV"
      },
      "outputs": [],
      "source": [
        "# from google.colab import userdata\n",
        "# GOOGLE_API_KEY=userdata.get('GOOGLE_API_KEY')\n",
        "# genai.configure(api_key=GOOGLE_API_KEY)\n",
        "\n",
        "import os\n",
        "os.environ[\"GEMINI_API_KEY\"]= \"INSERT KEY HERE\"\n",
        "genai.configure(api_key=os.getenv('GEMINI_API_KEY'))\n"
      ]
    },
    {
      "cell_type": "markdown",
      "metadata": {
        "id": "MNvhBdoDFnTC"
      },
      "source": [
        "## Extract frames\n",
        "\n",
        "The Gemini API currently does not support video files directly. Instead, you can provide a series of timestamps and image files.\n",
        "\n",
        "We will extract 1 frame a second from a the short film \"Big Buck Bunny\" file using [OpenCV](https://docs.opencv.org/4.x/d6/d00/tutorial_py_root.html).\n",
        "\n",
        "> \"Big Buck Bunny\" is (c) copyright 2008, Blender Foundation / www.bigbuckbunny.org and [licensed](https://peach.blender.org/about/) under the [Creative Commons Attribution 3.0](http://creativecommons.org/licenses/by/3.0/) License.\n",
        "\n",
        "Note: You can also [upload your own files](https://github.com/google-gemini/cookbook/tree/main/examples/Upload_files.ipynb) to use."
      ]
    },
    {
      "cell_type": "code",
      "execution_count": 5,
      "metadata": {
        "id": "_HzrDdp2Q1Cu"
      },
      "outputs": [],
      "source": [
        "video_file_name = \"mp4_converted_video.mp4\""
      ]
    },
    {
      "cell_type": "markdown",
      "metadata": {
        "id": "4_2KHEawhDD7"
      },
      "source": [
        "Use OpenCV to extract image frames from the video at 1 frame per second."
      ]
    },
    {
      "cell_type": "code",
      "execution_count": 6,
      "metadata": {},
      "outputs": [
        {
          "name": "stderr",
          "output_type": "stream",
          "text": [
            "ls: cannot access 'frames/mp4_converted_video_mp4_frame00': No such file or directory\n"
          ]
        }
      ],
      "source": [
        "!ls frames/mp4_converted_video_mp4_frame00  "
      ]
    },
    {
      "cell_type": "code",
      "execution_count": 7,
      "metadata": {
        "colab": {
          "base_uri": "https://localhost:8080/"
        },
        "id": "jW9ilYCdL99M",
        "outputId": "9583f8c3-65b5-4740-f690-bf2c1bda6176"
      },
      "outputs": [
        {
          "name": "stdout",
          "output_type": "stream",
          "text": [
            "Extracting mp4_converted_video.mp4 at 1 frame per second. This might take a bit...\n",
            "0\n",
            "frames\\mp4_converted_video_mp4_frame00_00.jpg\n",
            "1\n",
            "frames\\mp4_converted_video_mp4_frame00_01.jpg\n",
            "2\n",
            "frames\\mp4_converted_video_mp4_frame00_02.jpg\n",
            "3\n",
            "frames\\mp4_converted_video_mp4_frame00_03.jpg\n",
            "4\n",
            "frames\\mp4_converted_video_mp4_frame00_04.jpg\n",
            "5\n",
            "frames\\mp4_converted_video_mp4_frame00_05.jpg\n",
            "6\n",
            "frames\\mp4_converted_video_mp4_frame00_06.jpg\n",
            "7\n",
            "frames\\mp4_converted_video_mp4_frame00_07.jpg\n",
            "8\n",
            "frames\\mp4_converted_video_mp4_frame00_08.jpg\n",
            "9\n",
            "frames\\mp4_converted_video_mp4_frame00_09.jpg\n",
            "10\n",
            "frames\\mp4_converted_video_mp4_frame00_10.jpg\n",
            "11\n",
            "frames\\mp4_converted_video_mp4_frame00_11.jpg\n",
            "12\n",
            "frames\\mp4_converted_video_mp4_frame00_12.jpg\n",
            "13\n",
            "frames\\mp4_converted_video_mp4_frame00_13.jpg\n",
            "14\n",
            "frames\\mp4_converted_video_mp4_frame00_14.jpg\n",
            "15\n",
            "frames\\mp4_converted_video_mp4_frame00_15.jpg\n",
            "16\n",
            "frames\\mp4_converted_video_mp4_frame00_16.jpg\n",
            "17\n",
            "frames\\mp4_converted_video_mp4_frame00_17.jpg\n",
            "18\n",
            "frames\\mp4_converted_video_mp4_frame00_18.jpg\n",
            "19\n",
            "frames\\mp4_converted_video_mp4_frame00_19.jpg\n",
            "20\n",
            "frames\\mp4_converted_video_mp4_frame00_20.jpg\n",
            "21\n",
            "frames\\mp4_converted_video_mp4_frame00_21.jpg\n",
            "22\n",
            "frames\\mp4_converted_video_mp4_frame00_22.jpg\n",
            "23\n",
            "frames\\mp4_converted_video_mp4_frame00_23.jpg\n",
            "24\n",
            "frames\\mp4_converted_video_mp4_frame00_24.jpg\n",
            "25\n",
            "frames\\mp4_converted_video_mp4_frame00_25.jpg\n",
            "26\n",
            "frames\\mp4_converted_video_mp4_frame00_26.jpg\n",
            "27\n",
            "frames\\mp4_converted_video_mp4_frame00_27.jpg\n",
            "28\n",
            "frames\\mp4_converted_video_mp4_frame00_28.jpg\n",
            "29\n",
            "frames\\mp4_converted_video_mp4_frame00_29.jpg\n",
            "30\n",
            "frames\\mp4_converted_video_mp4_frame00_30.jpg\n",
            "31\n",
            "frames\\mp4_converted_video_mp4_frame00_31.jpg\n",
            "32\n",
            "frames\\mp4_converted_video_mp4_frame00_32.jpg\n",
            "33\n",
            "frames\\mp4_converted_video_mp4_frame00_33.jpg\n",
            "34\n",
            "frames\\mp4_converted_video_mp4_frame00_34.jpg\n",
            "35\n",
            "frames\\mp4_converted_video_mp4_frame00_35.jpg\n",
            "36\n",
            "frames\\mp4_converted_video_mp4_frame00_36.jpg\n",
            "Completed video frame extraction!\n",
            "\n",
            "Extracted: 37 frames\n"
          ]
        }
      ],
      "source": [
        "import cv2\n",
        "import os\n",
        "import shutil\n",
        "\n",
        "# Create or cleanup existing extracted image frames directory.\n",
        "FRAME_EXTRACTION_DIRECTORY = \"frames\"\n",
        "FRAME_PREFIX = \"_frame\"\n",
        "def create_frame_output_dir(output_dir):\n",
        "  if not os.path.exists(output_dir):\n",
        "    os.makedirs(output_dir)\n",
        "  else:\n",
        "    shutil.rmtree(output_dir)\n",
        "    os.makedirs(output_dir)\n",
        "\n",
        "def extract_frame_from_video(video_file_path):\n",
        "  print(f\"Extracting {video_file_path} at 1 frame per second. This might take a bit...\")\n",
        "  create_frame_output_dir(FRAME_EXTRACTION_DIRECTORY)\n",
        "  vidcap = cv2.VideoCapture(video_file_path)\n",
        "  fps = vidcap.get(cv2.CAP_PROP_FPS)\n",
        "  frame_duration = 1 / fps  # Time interval between frames (in seconds)\n",
        "  output_file_prefix = os.path.basename(video_file_path).replace('.', '_')\n",
        "  frame_count = 0\n",
        "  count = 0\n",
        "  while vidcap.isOpened():\n",
        "      success, frame = vidcap.read()\n",
        "      if not success: # End of video\n",
        "          break\n",
        "      if int(count / fps) == frame_count: # Extract a frame every second\n",
        "          print(frame_count)\n",
        "          min = frame_count // 60\n",
        "          sec = frame_count % 60\n",
        "          time_string = f\"{min:02d}_{sec:02d}\"\n",
        "          image_name = f\"{output_file_prefix}{FRAME_PREFIX}{time_string}.jpg\"\n",
        "          output_filename = os.path.join(FRAME_EXTRACTION_DIRECTORY, image_name)\n",
        "          print(output_filename)\n",
        "          cv2.imwrite(output_filename, frame)\n",
        "          frame_count += 1\n",
        "      count += 1\n",
        "  vidcap.release() # Release the capture object\\n\",\n",
        "  print(f\"Completed video frame extraction!\\n\\nExtracted: {frame_count} frames\")\n",
        "\n",
        "extract_frame_from_video(video_file_name)"
      ]
    },
    {
      "cell_type": "markdown",
      "metadata": {
        "id": "c-z4zsCUlaru"
      },
      "source": [
        "## Upload frames using the File API\n",
        "\n",
        "Once we have the frames extracted, we are ready to upload the frames to the API.\n",
        "\n",
        "The File API accepts files under 2GB in size and can store up to 20GB of files per project. Files last for 2 days and cannot be downloaded from the API.\n",
        "\n",
        "We will just upload 10 frames so this example runs quickly. You can modify the code below to upload the entire video."
      ]
    },
    {
      "cell_type": "code",
      "execution_count": 9,
      "metadata": {
        "colab": {
          "base_uri": "https://localhost:8080/"
        },
        "id": "JSd4s0YygV9r",
        "outputId": "45f5b7b6-43e5-4e37-f069-428355089bda"
      },
      "outputs": [
        {
          "name": "stdout",
          "output_type": "stream",
          "text": [
            "Uploading 10 files. This might take a bit...\n",
            "Uploading: frames\\mp4_converted_video_mp4_frame00_00.jpg...\n",
            "Uploading: frames\\mp4_converted_video_mp4_frame00_01.jpg...\n",
            "Uploading: frames\\mp4_converted_video_mp4_frame00_02.jpg...\n",
            "Uploading: frames\\mp4_converted_video_mp4_frame00_03.jpg...\n",
            "Uploading: frames\\mp4_converted_video_mp4_frame00_04.jpg...\n",
            "Uploading: frames\\mp4_converted_video_mp4_frame00_05.jpg...\n",
            "Uploading: frames\\mp4_converted_video_mp4_frame00_06.jpg...\n",
            "Uploading: frames\\mp4_converted_video_mp4_frame00_07.jpg...\n",
            "Uploading: frames\\mp4_converted_video_mp4_frame00_08.jpg...\n",
            "Uploading: frames\\mp4_converted_video_mp4_frame00_09.jpg...\n",
            "Uploading: frames\\mp4_converted_video_mp4_frame00_10.jpg...\n",
            "Uploading: frames\\mp4_converted_video_mp4_frame00_11.jpg...\n",
            "Uploading: frames\\mp4_converted_video_mp4_frame00_12.jpg...\n",
            "Uploading: frames\\mp4_converted_video_mp4_frame00_13.jpg...\n",
            "Uploading: frames\\mp4_converted_video_mp4_frame00_14.jpg...\n",
            "Uploading: frames\\mp4_converted_video_mp4_frame00_15.jpg...\n",
            "Uploading: frames\\mp4_converted_video_mp4_frame00_16.jpg...\n",
            "Uploading: frames\\mp4_converted_video_mp4_frame00_17.jpg...\n",
            "Uploading: frames\\mp4_converted_video_mp4_frame00_18.jpg...\n",
            "Uploading: frames\\mp4_converted_video_mp4_frame00_19.jpg...\n",
            "Uploading: frames\\mp4_converted_video_mp4_frame00_20.jpg...\n",
            "Uploading: frames\\mp4_converted_video_mp4_frame00_21.jpg...\n",
            "Uploading: frames\\mp4_converted_video_mp4_frame00_22.jpg...\n",
            "Uploading: frames\\mp4_converted_video_mp4_frame00_23.jpg...\n",
            "Uploading: frames\\mp4_converted_video_mp4_frame00_24.jpg...\n",
            "Uploading: frames\\mp4_converted_video_mp4_frame00_25.jpg...\n",
            "Uploading: frames\\mp4_converted_video_mp4_frame00_26.jpg...\n",
            "Uploading: frames\\mp4_converted_video_mp4_frame00_27.jpg...\n",
            "Uploading: frames\\mp4_converted_video_mp4_frame00_28.jpg...\n",
            "Uploading: frames\\mp4_converted_video_mp4_frame00_29.jpg...\n",
            "Uploading: frames\\mp4_converted_video_mp4_frame00_30.jpg...\n",
            "Uploading: frames\\mp4_converted_video_mp4_frame00_31.jpg...\n",
            "Uploading: frames\\mp4_converted_video_mp4_frame00_32.jpg...\n",
            "Uploading: frames\\mp4_converted_video_mp4_frame00_33.jpg...\n",
            "Uploading: frames\\mp4_converted_video_mp4_frame00_34.jpg...\n",
            "Uploading: frames\\mp4_converted_video_mp4_frame00_35.jpg...\n",
            "Uploading: frames\\mp4_converted_video_mp4_frame00_36.jpg...\n",
            "Completed file uploads!\n",
            "\n",
            "Uploaded: 37 files\n"
          ]
        }
      ],
      "source": [
        "import os\n",
        "\n",
        "class File:\n",
        "  def __init__(self, file_path: str, display_name: str = None):\n",
        "    self.file_path = file_path\n",
        "    if display_name:\n",
        "      self.display_name = display_name\n",
        "    self.timestamp = get_timestamp(file_path)\n",
        "\n",
        "  def set_file_response(self, response):\n",
        "    self.response = response\n",
        "\n",
        "def get_timestamp(filename):\n",
        "  \"\"\"Extracts the frame count (as an integer) from a filename with the format\n",
        "     'output_file_prefix_frame00:00.jpg'.\n",
        "  \"\"\"\n",
        "  parts = filename.split(FRAME_PREFIX)\n",
        "  if len(parts) != 2:\n",
        "      return None  # Indicates the filename might be incorrectly formatted\n",
        "  return parts[1].split('.')[0]\n",
        "\n",
        "# Process each frame in the output directory\n",
        "files = os.listdir(FRAME_EXTRACTION_DIRECTORY)\n",
        "files = sorted(files)\n",
        "files_to_upload = []\n",
        "for file in files:\n",
        "  files_to_upload.append(\n",
        "      File(file_path=os.path.join(FRAME_EXTRACTION_DIRECTORY, file)))\n",
        "\n",
        "# Upload the files to the API\n",
        "# Only upload a 10 second slice of files to reduce upload time.\n",
        "# Change full_video to True to upload the whole video.\n",
        "full_video = False\n",
        "\n",
        "uploaded_files = []\n",
        "print(f'Uploading {len(files_to_upload) if full_video} files. This might take a bit...')\n",
        "\n",
        "for file in files_to_upload if full_video else files_to_upload:\n",
        "  print(f'Uploading: {file.file_path}...')\n",
        "  response = genai.upload_file(path=file.file_path)\n",
        "  file.set_file_response(response)\n",
        "  uploaded_files.append(file)\n",
        "\n",
        "print(f\"Completed file uploads!\\n\\nUploaded: {len(uploaded_files)} files\")"
      ]
    },
    {
      "cell_type": "markdown",
      "metadata": {
        "id": "oOZmTUb4FWOa"
      },
      "source": [
        "## List Files\n",
        "\n",
        "After uploading the file, you can verify the API has successfully received the files by calling `files.list`.\n",
        "\n",
        "`files.list` lets you see all files that have been uploaded to the File API that are associated with the Cloud project your API key belongs to. Only the `name` (and by extension, the `uri`) are unique."
      ]
    },
    {
      "cell_type": "code",
      "execution_count": null,
      "metadata": {
        "colab": {
          "base_uri": "https://localhost:8080/",
          "height": 191
        },
        "id": "SHMVCWHkFhJW",
        "outputId": "c4f0d4d4-43e8-49ca-bd6d-c72cf0ceb731"
      },
      "outputs": [
        {
          "name": "stdout",
          "output_type": "stream",
          "text": [
            "https://generativelanguage.googleapis.com/v1beta/files/yxy6h76dqllw\n",
            "https://generativelanguage.googleapis.com/v1beta/files/tae9e09r72ll\n",
            "https://generativelanguage.googleapis.com/v1beta/files/uz398cjo7t60\n",
            "https://generativelanguage.googleapis.com/v1beta/files/yqzehq5lvhwj\n",
            "https://generativelanguage.googleapis.com/v1beta/files/mc317onbtu0a\n",
            "https://generativelanguage.googleapis.com/v1beta/files/jwttpvedfrm4\n",
            "https://generativelanguage.googleapis.com/v1beta/files/5pgnm3bnbpfz\n",
            "https://generativelanguage.googleapis.com/v1beta/files/6dhg3it8zrtq\n",
            "https://generativelanguage.googleapis.com/v1beta/files/9krlw49hf7eb\n",
            "https://generativelanguage.googleapis.com/v1beta/files/p2zw4163464x\n",
            "https://generativelanguage.googleapis.com/v1beta/files/b8cuc8ko76oq\n",
            "https://generativelanguage.googleapis.com/v1beta/files/960soh6ws5z4\n",
            "https://generativelanguage.googleapis.com/v1beta/files/7gidca7npcjj\n",
            "https://generativelanguage.googleapis.com/v1beta/files/mn4zetnxjqs0\n",
            "https://generativelanguage.googleapis.com/v1beta/files/t6f5zxf6irfc\n",
            "https://generativelanguage.googleapis.com/v1beta/files/i1kuto1xy1dy\n",
            "https://generativelanguage.googleapis.com/v1beta/files/r24ts9e2mwf6\n",
            "https://generativelanguage.googleapis.com/v1beta/files/xexvsqyskir1\n",
            "https://generativelanguage.googleapis.com/v1beta/files/2p4ugyywfpi6\n",
            "https://generativelanguage.googleapis.com/v1beta/files/ma76qm5xj1ef\n",
            "https://generativelanguage.googleapis.com/v1beta/files/xepeicxvmwq4\n",
            "https://generativelanguage.googleapis.com/v1beta/files/fdplr5o71tdb\n",
            "https://generativelanguage.googleapis.com/v1beta/files/gf9h6cc6emdt\n",
            "https://generativelanguage.googleapis.com/v1beta/files/36snir5v9fwr\n",
            "https://generativelanguage.googleapis.com/v1beta/files/f0v374o1rvx9\n",
            "https://generativelanguage.googleapis.com/v1beta/files/m2qjnt5qaxu3\n",
            "https://generativelanguage.googleapis.com/v1beta/files/sx2655efqenw\n",
            "https://generativelanguage.googleapis.com/v1beta/files/hh87x8uvpavw\n",
            "https://generativelanguage.googleapis.com/v1beta/files/oaoltvrvh02n\n",
            "https://generativelanguage.googleapis.com/v1beta/files/hfafb5spislc\n",
            "https://generativelanguage.googleapis.com/v1beta/files/imfe2fsoirop\n",
            "https://generativelanguage.googleapis.com/v1beta/files/9fhvbj7e5pvu\n",
            "https://generativelanguage.googleapis.com/v1beta/files/dr4ha50lejf7\n",
            "https://generativelanguage.googleapis.com/v1beta/files/adqoaay8cd23\n",
            "https://generativelanguage.googleapis.com/v1beta/files/tsozzlbn6uz1\n",
            "https://generativelanguage.googleapis.com/v1beta/files/yzs3o6334vh0\n",
            "https://generativelanguage.googleapis.com/v1beta/files/gxyyloy3xsrw\n"
          ]
        }
      ],
      "source": [
        "# List files uploaded in the API\n",
        "for n, f in zip(range(len(uploaded_files)), genai.list_files()):\n",
        "  print(f.uri)"
      ]
    },
    {
      "cell_type": "markdown",
      "metadata": {
        "id": "EPPOECHzsIGJ"
      },
      "source": [
        "## Generate Content\n",
        "\n",
        "After the file has been uploaded, you can make `GenerateContent` requests that reference the File API URI.\n",
        "\n",
        "To understand videos with Gemini 1.5 Pro, provide 2 consecutive `Part`s for each frame: a `text` part with the **timestamp** and `fileData` part with the frame's **image URI**:\n",
        "\n",
        "```\n",
        "part { text = \"00:00\" }\n",
        "part { fileData = fileData {\n",
        "  fileUri = \"https://generativelanguage.googleapis.com/v1/files/frame-0\"\n",
        "  mimeType = \"image/jpeg\"\n",
        "}}\n",
        "```"
      ]
    },
    {
      "cell_type": "code",
      "execution_count": null,
      "metadata": {},
      "outputs": [
        {
          "data": {
            "text/plain": [
              "'00_36'"
            ]
          },
          "execution_count": 19,
          "metadata": {},
          "output_type": "execute_result"
        }
      ],
      "source": [
        "file.timestamp"
      ]
    },
    {
      "cell_type": "code",
      "execution_count": 13,
      "metadata": {
        "colab": {
          "base_uri": "https://localhost:8080/",
          "height": 54
        },
        "id": "ZYVFqmLkl5nE",
        "outputId": "e764f50f-9f28-4e4f-a558-db021fb759cd"
      },
      "outputs": [
        {
          "ename": "ValueError",
          "evalue": "The `response.text` quick accessor only works when the response contains a valid `Part`, but none was returned. Check the `candidate.safety_ratings` to see if the response was blocked.",
          "output_type": "error",
          "traceback": [
            "\u001b[1;31m---------------------------------------------------------------------------\u001b[0m",
            "\u001b[1;31mValueError\u001b[0m                                Traceback (most recent call last)",
            "Cell \u001b[1;32mIn[13], line 19\u001b[0m\n\u001b[0;32m     16\u001b[0m request \u001b[38;5;241m=\u001b[39m make_request(prompt, uploaded_files)\n\u001b[0;32m     17\u001b[0m response \u001b[38;5;241m=\u001b[39m model\u001b[38;5;241m.\u001b[39mgenerate_content(request,\n\u001b[0;32m     18\u001b[0m                                   request_options\u001b[38;5;241m=\u001b[39m{\u001b[38;5;124m\"\u001b[39m\u001b[38;5;124mtimeout\u001b[39m\u001b[38;5;124m\"\u001b[39m: \u001b[38;5;241m600\u001b[39m})\n\u001b[1;32m---> 19\u001b[0m \u001b[38;5;28mprint\u001b[39m(\u001b[43mresponse\u001b[49m\u001b[38;5;241;43m.\u001b[39;49m\u001b[43mtext\u001b[49m)\n",
            "File \u001b[1;32mc:\\Users\\samuel\\anaconda3\\envs\\MaverickAI\\lib\\site-packages\\google\\generativeai\\types\\generation_types.py:356\u001b[0m, in \u001b[0;36mBaseGenerateContentResponse.text\u001b[1;34m(self)\u001b[0m\n\u001b[0;32m    354\u001b[0m parts \u001b[38;5;241m=\u001b[39m \u001b[38;5;28mself\u001b[39m\u001b[38;5;241m.\u001b[39mparts\n\u001b[0;32m    355\u001b[0m \u001b[38;5;28;01mif\u001b[39;00m \u001b[38;5;129;01mnot\u001b[39;00m parts:\n\u001b[1;32m--> 356\u001b[0m     \u001b[38;5;28;01mraise\u001b[39;00m \u001b[38;5;167;01mValueError\u001b[39;00m(\n\u001b[0;32m    357\u001b[0m         \u001b[38;5;124m\"\u001b[39m\u001b[38;5;124mThe `response.text` quick accessor only works when the response contains a valid \u001b[39m\u001b[38;5;124m\"\u001b[39m\n\u001b[0;32m    358\u001b[0m         \u001b[38;5;124m\"\u001b[39m\u001b[38;5;124m`Part`, but none was returned. Check the `candidate.safety_ratings` to see if the \u001b[39m\u001b[38;5;124m\"\u001b[39m\n\u001b[0;32m    359\u001b[0m         \u001b[38;5;124m\"\u001b[39m\u001b[38;5;124mresponse was blocked.\u001b[39m\u001b[38;5;124m\"\u001b[39m\n\u001b[0;32m    360\u001b[0m     )\n\u001b[0;32m    362\u001b[0m \u001b[38;5;28;01mif\u001b[39;00m \u001b[38;5;28mlen\u001b[39m(parts) \u001b[38;5;241m!=\u001b[39m \u001b[38;5;241m1\u001b[39m \u001b[38;5;129;01mor\u001b[39;00m \u001b[38;5;124m\"\u001b[39m\u001b[38;5;124mtext\u001b[39m\u001b[38;5;124m\"\u001b[39m \u001b[38;5;129;01mnot\u001b[39;00m \u001b[38;5;129;01min\u001b[39;00m parts[\u001b[38;5;241m0\u001b[39m]:\n\u001b[0;32m    363\u001b[0m     \u001b[38;5;28;01mraise\u001b[39;00m \u001b[38;5;167;01mValueError\u001b[39;00m(\n\u001b[0;32m    364\u001b[0m         \u001b[38;5;124m\"\u001b[39m\u001b[38;5;124mThe `response.text` quick accessor only works for \u001b[39m\u001b[38;5;124m\"\u001b[39m\n\u001b[0;32m    365\u001b[0m         \u001b[38;5;124m\"\u001b[39m\u001b[38;5;124msimple (single-`Part`) text responses. This response is not simple text. \u001b[39m\u001b[38;5;124m\"\u001b[39m\n\u001b[1;32m   (...)\u001b[0m\n\u001b[0;32m    368\u001b[0m         \u001b[38;5;124m\"\u001b[39m\u001b[38;5;124minstead.\u001b[39m\u001b[38;5;124m\"\u001b[39m\n\u001b[0;32m    369\u001b[0m     )\n",
            "\u001b[1;31mValueError\u001b[0m: The `response.text` quick accessor only works when the response contains a valid `Part`, but none was returned. Check the `candidate.safety_ratings` to see if the response was blocked."
          ]
        }
      ],
      "source": [
        "# Create the prompt.\n",
        "prompt = \"Below you are provided the frames of a video with their corresponding timestamps below each frame. If a crime was commited, identify the earliest frame where it was commited and the timestamp of the frame and explain why you selected that frame. If no crime was commited, write 'No crime commited\"\n",
        "\n",
        "# Set the model to Gemini 1.5 Pro.\n",
        "model = genai.GenerativeModel(model_name=\"models/gemini-1.5-pro-latest\")\n",
        "\n",
        "# Make GenerateContent request with the structure described above.\n",
        "def make_request(prompt, files):\n",
        "  request = [prompt]\n",
        "  for file in files:\n",
        "    request.append(file.timestamp.replace(\"_\", \":\"))\n",
        "    request.append(file.response)\n",
        "  return request\n",
        "\n",
        "# Make the LLM request.\n",
        "request = make_request(prompt, uploaded_files)\n",
        "response = model.generate_content(request,\n",
        "                                  request_options={\"timeout\": 600})\n",
        "print(response.text)"
      ]
    },
    {
      "cell_type": "markdown",
      "metadata": {
        "id": "IrPDYdQSKTg4"
      },
      "source": [
        "## Delete Files\n",
        "\n",
        "Files are automatically deleted after 2 days or you can manually delete them using `files.delete()`."
      ]
    },
    {
      "cell_type": "code",
      "execution_count": null,
      "metadata": {
        "colab": {
          "base_uri": "https://localhost:8080/"
        },
        "id": "d4eO8ZXoKdZf",
        "outputId": "dc4d2de1-563b-4cdf-9e4d-c22d584429d1"
      },
      "outputs": [
        {
          "name": "stdout",
          "output_type": "stream",
          "text": [
            "Deleting 10 images. This might take a bit...\n",
            "files/ax2qg09qlt8z\n",
            "Deleted /content/frames/BigBuckBunny_320x180_mp4_frame00:43.jpg at URI https://generativelanguage.googleapis.com/v1beta/files/ax2qg09qlt8z\n",
            "files/wt6zcf2sr5f6\n",
            "Deleted /content/frames/BigBuckBunny_320x180_mp4_frame00:44.jpg at URI https://generativelanguage.googleapis.com/v1beta/files/wt6zcf2sr5f6\n",
            "files/f1hh0z86bg72\n",
            "Deleted /content/frames/BigBuckBunny_320x180_mp4_frame00:45.jpg at URI https://generativelanguage.googleapis.com/v1beta/files/f1hh0z86bg72\n",
            "files/5gmr6rkakb13\n",
            "Deleted /content/frames/BigBuckBunny_320x180_mp4_frame00:46.jpg at URI https://generativelanguage.googleapis.com/v1beta/files/5gmr6rkakb13\n",
            "files/icbgp7xsxhe3\n",
            "Deleted /content/frames/BigBuckBunny_320x180_mp4_frame00:47.jpg at URI https://generativelanguage.googleapis.com/v1beta/files/icbgp7xsxhe3\n",
            "files/iilxn5wjze28\n",
            "Deleted /content/frames/BigBuckBunny_320x180_mp4_frame00:48.jpg at URI https://generativelanguage.googleapis.com/v1beta/files/iilxn5wjze28\n",
            "files/q6y8iak1ky99\n",
            "Deleted /content/frames/BigBuckBunny_320x180_mp4_frame00:49.jpg at URI https://generativelanguage.googleapis.com/v1beta/files/q6y8iak1ky99\n",
            "Completed deleting files!\n",
            "\n",
            "Deleted: 10 files\n"
          ]
        }
      ],
      "source": [
        "print(f'Deleting {len(uploaded_files)} images. This might take a bit...')\n",
        "for file in uploaded_files:\n",
        "  genai.delete_file(file.response.name)\n",
        "  print(f'Deleted {file.file_path} at URI {file.response.uri}')\n",
        "print(f\"Completed deleting files!\\n\\nDeleted: {len(uploaded_files)} files\")"
      ]
    },
    {
      "cell_type": "markdown",
      "metadata": {
        "id": "K5oUCqb6IUnH"
      },
      "source": [
        "## Learning more\n",
        "\n",
        "The File API lets you upload a variety of multimodal MIME types, including images and audio formats. The File API handles inputs that can be used to generate content with [`model.generateContent`](https://ai.google.dev/api/rest/v1/models/generateContent) or [`model.streamGenerateContent`](https://ai.google.dev/api/rest/v1/models/streamGenerateContent).\n",
        "\n",
        "The File API accepts files under 2GB in size and can store up to 20GB of files per project. Files last for 2 days and cannot be downloaded from the API.\n",
        "\n",
        "* Learn more about the [File API](https://github.com/google-gemini/cookbook/blob/main/quickstarts/File_API.ipynb) with the quickstart.\n",
        "\n",
        "* Learn more about prompting with [media files](https://ai.google.dev/tutorials/prompting_with_media) in the docs, including the supported formats and maximum length."
      ]
    }
  ],
  "metadata": {
    "colab": {
      "provenance": []
    },
    "kernelspec": {
      "display_name": "MaverickAI",
      "language": "python",
      "name": "maverickai"
    },
    "language_info": {
      "codemirror_mode": {
        "name": "ipython",
        "version": 3
      },
      "file_extension": ".py",
      "mimetype": "text/x-python",
      "name": "python",
      "nbconvert_exporter": "python",
      "pygments_lexer": "ipython3",
      "version": "3.10.9"
    }
  },
  "nbformat": 4,
  "nbformat_minor": 0
}
